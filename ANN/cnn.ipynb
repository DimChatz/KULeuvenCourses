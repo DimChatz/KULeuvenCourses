{
  "cells": [
    {
      "cell_type": "markdown",
      "metadata": {
        "id": "XEDrFr3_VWQm"
      },
      "source": [
        "#Artificial Neural Networks and Deep Learning  \n",
        "\n",
        "\n",
        "\n",
        "##Assignment 3.2 - Convolutional Neural Networks\n",
        "\n",
        "Prof. Dr. Ir. Johan A. K. Suykens     \n",
        "\n",
        "In this file, we will implement a convolutional neural network from scratch.\n",
        "\n",
        "We only consider classification tasks here in the session.\n",
        "\n",
        "\n"
      ]
    },
    {
      "cell_type": "code",
      "execution_count": null,
      "metadata": {
        "colab": {
          "base_uri": "https://localhost:8080/"
        },
        "id": "k06FYdbfVReE",
        "outputId": "0212e73f-3517-4657-dd8e-13497a0aa9cc"
      },
      "outputs": [
        {
          "name": "stdout",
          "output_type": "stream",
          "text": [
            "Mounted at /content/drive\n"
          ]
        }
      ],
      "source": [
        "# Please first load your google drive\n",
        "from google.colab import drive\n",
        "drive.mount('/content/drive')"
      ]
    },
    {
      "cell_type": "code",
      "execution_count": null,
      "metadata": {
        "colab": {
          "base_uri": "https://localhost:8080/"
        },
        "id": "tBcSkiFpVmTq",
        "outputId": "4a018563-dd56-4855-d9d8-cb229d420126"
      },
      "outputs": [
        {
          "name": "stdout",
          "output_type": "stream",
          "text": [
            "/bin/bash: line 1: nvidia-smi: command not found\n"
          ]
        }
      ],
      "source": [
        "# Please go to Edit > Notebook settings > Hardware accelerator > choose \"T4 GPU\"\n",
        "# Now check if you have loaded the GPU successfully\n",
        "!nvidia-smi"
      ]
    },
    {
      "cell_type": "markdown",
      "metadata": {
        "id": "C2KVP3ThVt4T"
      },
      "source": [
        "# Convolutional Neural Networks\n",
        "In this section, we implement CNN from scrath and train it on the MNIST dataset.\n",
        "\n",
        "We first load the dataset as follows:"
      ]
    },
    {
      "cell_type": "code",
      "execution_count": null,
      "metadata": {
        "id": "-X7wZ07qVny5"
      },
      "outputs": [],
      "source": [
        "import torch\n",
        "from torch import nn, optim, functional, utils\n",
        "from torch.utils.data.dataloader import DataLoader\n",
        "import torchvision\n",
        "from torchvision import datasets, utils\n",
        "from torchvision.datasets import MNIST\n",
        "\n",
        "import time, os\n",
        "\n",
        "import matplotlib.pyplot as plt\n",
        "# use seaborn\n",
        "import seaborn as sns\n",
        "\n",
        "# Apply the default theme\n",
        "sns.set_theme()\n",
        "plt.rcParams[\"figure.dpi\"] = 100\n",
        "plt.rcParams['savefig.dpi'] = 300\n",
        "\n",
        "\n",
        "def get_mnist_loader(batch_size=100, num_train_samples = 10000, num_test_samples = 2000):\n",
        "    \"\"\"\n",
        "\n",
        "    :return: train_loader, test_loader\n",
        "    \"\"\"\n",
        "    train_dataset = MNIST(root='../data',\n",
        "                          train=True,\n",
        "                          transform=torchvision.transforms.ToTensor(),\n",
        "                          download=True)\n",
        "    test_dataset = MNIST(root='../data',\n",
        "                         train=False,\n",
        "                         transform=torchvision.transforms.ToTensor(),\n",
        "                         download=True)\n",
        "\n",
        "    # Randomly select a subset of samples\n",
        "    train_indices = torch.randperm(len(train_dataset))[:num_train_samples]\n",
        "    test_indices = torch.randperm(len(test_dataset))[:num_test_samples]\n",
        "\n",
        "    # Create subset samplers to be used in the dataloader\n",
        "    train_subset_sampler = torch.utils.data.SubsetRandomSampler(train_indices)\n",
        "    test_subset_sampler = torch.utils.data.SubsetRandomSampler(test_indices)\n",
        "\n",
        "    train_loader = torch.utils.data.DataLoader(dataset=train_dataset,\n",
        "                                               batch_size=batch_size,\n",
        "                                               sampler = train_subset_sampler)\n",
        "    test_loader = torch.utils.data.DataLoader(dataset=test_dataset,\n",
        "                                              batch_size=batch_size,\n",
        "                                              sampler = test_subset_sampler)\n",
        "\n",
        "\n",
        "    return train_loader, test_loader"
      ]
    },
    {
      "cell_type": "markdown",
      "metadata": {
        "id": "l8DOJpeycH1L"
      },
      "source": [
        "## Build CNN from scratch\n",
        "Our CNN is of 4 convolutional layers and 2 fully connected layers.\n",
        "You can try a different amount of layers by simply add more ``self.conv`` layers inside  ``__init__`` and ``forward`` in the following code. Please be careful with the dimensions of the convolutional layers when changing parameters such as convolution channels, kernel_size and stride."
      ]
    },
    {
      "cell_type": "code",
      "execution_count": null,
      "metadata": {
        "id": "vwTxoe2VV7jX"
      },
      "outputs": [],
      "source": [
        "class CNNnet(torch.nn.Module):\n",
        "    def __init__(self):\n",
        "        super(CNNnet,self).__init__()\n",
        "        self.conv1 = torch.nn.Sequential(\n",
        "            # 2-D convolution\n",
        "            torch.nn.Conv2d(in_channels=1, # input channels\n",
        "                            out_channels=8, # convolution channels\n",
        "                            kernel_size=3, # kernel size of the convolution\n",
        "                            stride=2, # stride of the kernel\n",
        "                            padding=1), # padding with 0\n",
        "            # Data is normalized before entering ReLU，num_features=batch_size*num_features*height*width\n",
        "            # Output is with size (N,C,W,H), i.e., (batch_size, channels, width, height)\n",
        "            torch.nn.BatchNorm2d(8), # the input dimensionality of BatchNorm2d should match the number of convolution channels\n",
        "            # Set activation function\n",
        "            torch.nn.ReLU()\n",
        "        )\n",
        "        self.conv2 = torch.nn.Sequential(\n",
        "            torch.nn.Conv2d(8,16,3,2,1), # be sure to have the number of input channels match the output channels of the previous layer\n",
        "            torch.nn.BatchNorm2d(16),\n",
        "            torch.nn.ReLU()\n",
        "        )\n",
        "        self.conv3 = torch.nn.Sequential(\n",
        "            torch.nn.Conv2d(16,16,3,2,1),\n",
        "            torch.nn.BatchNorm2d(16),\n",
        "            torch.nn.ReLU()\n",
        "        )\n",
        "\n",
        "        # set fully connected layer\n",
        "        self.mlp1 = torch.nn.Linear(256,100) # input dimension should match the output dimension from the previous layer\n",
        "        # final output is of dimension 10 since\n",
        "        # MNIST is a 10-class classification dataset\n",
        "        self.mlp2 = torch.nn.Linear(100,10)\n",
        "\n",
        "    # feedforward\n",
        "    def forward(self,x):\n",
        "        x = self.conv1(x)\n",
        "        x = self.conv2(x)\n",
        "        x = self.conv3(x)\n",
        "        #x = self.conv3b(x)\n",
        "        #x = self.conv4(x)\n",
        "        # flatten tensor to 1-D\n",
        "        x = self.mlp1(x.view(x.size(0),-1))\n",
        "        x = self.mlp2(x)\n",
        "        return x"
      ]
    },
    {
      "cell_type": "markdown",
      "metadata": {
        "id": "bsGqOf9mk6yR"
      },
      "source": [
        "## Training function\n",
        "The training process includes loading the model, setting the optimizer, and running on the training set for epochs.\n",
        "After each training epoch, we evaluate the model on the test set to record the test accuracy."
      ]
    },
    {
      "cell_type": "code",
      "execution_count": null,
      "metadata": {
        "id": "tHe1PyUucZGp"
      },
      "outputs": [],
      "source": [
        "def train(model, train_epoch, model_save, train_loader, test_loader) :\n",
        "    # Push model on to GPU if available\n",
        "    device = torch.device('cuda' if torch.cuda.is_available() else 'cpu')\n",
        "    model.to(device)\n",
        "    loss_func = nn.CrossEntropyLoss( )\n",
        "    # Use Adam optimizer\n",
        "    optimizer = torch.optim.Adam(model.parameters( ),lr=0.001)\n",
        "    acc_count = []  # record the test accuracy\n",
        "    for epoch in range(train_epoch):\n",
        "        model.train()\n",
        "        for i, (x, y) in enumerate(train_loader):\n",
        "            x = x.to(device)  # torch,Size([128,1,28,28])\n",
        "            y = y.to(device)   # torch.Size([128])\n",
        "            # Output of the model\n",
        "            out = model(x)  # torch.Size([128,10])\n",
        "            # Compute loss\n",
        "            loss = loss_func(out, y)\n",
        "            optimizer.zero_grad()\n",
        "            loss.backward()  # backpropagation\n",
        "            optimizer.step()  # update the network parameters\n",
        "            # save the model checkpoint every 20 iterations\n",
        "            if i % 20 == 0:\n",
        "                print('Training Loss:{:.6f} Batch {}/{} '.format(loss.item(), i, len(train_loader)))\n",
        "                torch.save(model, model_save)\n",
        "        # evaluate the model after each training epoch\n",
        "        with torch.no_grad():\n",
        "            model.eval()\n",
        "            true_pred = torch.zeros(1).to(device)\n",
        "            nb_sample = 0\n",
        "            for inputs, targets in test_loader:\n",
        "                inputs = inputs.to(device)\n",
        "                targets = targets.to(device)\n",
        "                outputs = model(inputs)\n",
        "                _, pred = torch.max(outputs, dim=1)\n",
        "                true_pred = true_pred + torch.sum(pred == targets).type(torch.FloatTensor)\n",
        "                nb_sample += len(inputs)\n",
        "            acc = true_pred / nb_sample\n",
        "            acc = acc.item()\n",
        "            acc_count.append(acc)\n",
        "            print('Epoch {:d}, Test Accuracy {:.3f} %'.format(epoch, acc * 100))\n",
        "    return acc_count"
      ]
    },
    {
      "cell_type": "markdown",
      "metadata": {
        "id": "fqXo_JIWla_l"
      },
      "source": [
        "## Let's start training!\n",
        "The network is trained for 20 epochs, batch size of 100.\n",
        "\n",
        "You can adjust the hyperparameters here if necessary."
      ]
    },
    {
      "cell_type": "code",
      "execution_count": null,
      "metadata": {
        "id": "bFa55Z8aqnmv"
      },
      "outputs": [],
      "source": [
        "import os\n",
        "if not os.path.exists('MNIST_CNN'):\n",
        "    os.mkdir('MNIST_CNN')"
      ]
    },
    {
      "cell_type": "code",
      "execution_count": null,
      "metadata": {
        "id": "cMjq_kz8guO_"
      },
      "outputs": [],
      "source": [
        "# You can adjust the hyperparameters here if needed\n",
        "train_epoch = 20\n",
        "batch_size = 100\n",
        "shuffle = True\n",
        "\n",
        "# Define model\n",
        "model = CNNnet()\n",
        "\n",
        "# where to save the model\n",
        "model_save = './MNIST_CNN/ckpt.pth'"
      ]
    },
    {
      "cell_type": "code",
      "execution_count": null,
      "metadata": {
        "colab": {
          "base_uri": "https://localhost:8080/"
        },
        "id": "yhijmumReHXc",
        "outputId": "6c1b2301-92ae-4949-9330-790bd07e357d"
      },
      "outputs": [
        {
          "output_type": "stream",
          "name": "stdout",
          "text": [
            "Training Loss:2.330154 Batch 0/100 \n",
            "Training Loss:1.486375 Batch 20/100 \n",
            "Training Loss:0.762507 Batch 40/100 \n",
            "Training Loss:0.374085 Batch 60/100 \n",
            "Training Loss:0.348207 Batch 80/100 \n",
            "Epoch 0, Test Accuracy 91.800 %\n",
            "Training Loss:0.353863 Batch 0/100 \n",
            "Training Loss:0.210110 Batch 20/100 \n",
            "Training Loss:0.182841 Batch 40/100 \n",
            "Training Loss:0.216853 Batch 60/100 \n",
            "Training Loss:0.185550 Batch 80/100 \n",
            "Epoch 1, Test Accuracy 94.950 %\n",
            "Training Loss:0.164711 Batch 0/100 \n",
            "Training Loss:0.127270 Batch 20/100 \n",
            "Training Loss:0.175599 Batch 40/100 \n",
            "Training Loss:0.133944 Batch 60/100 \n",
            "Training Loss:0.083144 Batch 80/100 \n",
            "Epoch 2, Test Accuracy 95.500 %\n",
            "Training Loss:0.077649 Batch 0/100 \n",
            "Training Loss:0.057324 Batch 20/100 \n",
            "Training Loss:0.251643 Batch 40/100 \n",
            "Training Loss:0.066527 Batch 60/100 \n",
            "Training Loss:0.017011 Batch 80/100 \n",
            "Epoch 3, Test Accuracy 97.050 %\n",
            "Training Loss:0.064285 Batch 0/100 \n",
            "Training Loss:0.042594 Batch 20/100 \n",
            "Training Loss:0.060259 Batch 40/100 \n",
            "Training Loss:0.248202 Batch 60/100 \n",
            "Training Loss:0.122505 Batch 80/100 \n",
            "Epoch 4, Test Accuracy 96.500 %\n",
            "Training Loss:0.044918 Batch 0/100 \n",
            "Training Loss:0.080309 Batch 20/100 \n",
            "Training Loss:0.129141 Batch 40/100 \n",
            "Training Loss:0.027944 Batch 60/100 \n",
            "Training Loss:0.033581 Batch 80/100 \n",
            "Epoch 5, Test Accuracy 97.400 %\n",
            "Training Loss:0.037949 Batch 0/100 \n",
            "Training Loss:0.081238 Batch 20/100 \n",
            "Training Loss:0.084088 Batch 40/100 \n",
            "Training Loss:0.060593 Batch 60/100 \n",
            "Training Loss:0.016814 Batch 80/100 \n",
            "Epoch 6, Test Accuracy 97.350 %\n",
            "Training Loss:0.077128 Batch 0/100 \n",
            "Training Loss:0.039837 Batch 20/100 \n",
            "Training Loss:0.034124 Batch 40/100 \n",
            "Training Loss:0.023464 Batch 60/100 \n",
            "Training Loss:0.025600 Batch 80/100 \n",
            "Epoch 7, Test Accuracy 97.500 %\n",
            "Training Loss:0.009348 Batch 0/100 \n",
            "Training Loss:0.019489 Batch 20/100 \n",
            "Training Loss:0.048327 Batch 40/100 \n",
            "Training Loss:0.011957 Batch 60/100 \n",
            "Training Loss:0.021710 Batch 80/100 \n",
            "Epoch 8, Test Accuracy 97.700 %\n",
            "Training Loss:0.013998 Batch 0/100 \n",
            "Training Loss:0.034936 Batch 20/100 \n",
            "Training Loss:0.013653 Batch 40/100 \n",
            "Training Loss:0.013225 Batch 60/100 \n",
            "Training Loss:0.005246 Batch 80/100 \n",
            "Epoch 9, Test Accuracy 97.550 %\n",
            "Training Loss:0.023380 Batch 0/100 \n",
            "Training Loss:0.019440 Batch 20/100 \n",
            "Training Loss:0.040418 Batch 40/100 \n",
            "Training Loss:0.010247 Batch 60/100 \n",
            "Training Loss:0.010489 Batch 80/100 \n",
            "Epoch 10, Test Accuracy 97.600 %\n",
            "Training Loss:0.030336 Batch 0/100 \n",
            "Training Loss:0.007189 Batch 20/100 \n",
            "Training Loss:0.014616 Batch 40/100 \n",
            "Training Loss:0.012724 Batch 60/100 \n",
            "Training Loss:0.004889 Batch 80/100 \n",
            "Epoch 11, Test Accuracy 97.450 %\n",
            "Training Loss:0.013473 Batch 0/100 \n",
            "Training Loss:0.010008 Batch 20/100 \n",
            "Training Loss:0.013965 Batch 40/100 \n",
            "Training Loss:0.005334 Batch 60/100 \n",
            "Training Loss:0.006771 Batch 80/100 \n",
            "Epoch 12, Test Accuracy 97.700 %\n",
            "Training Loss:0.005249 Batch 0/100 \n",
            "Training Loss:0.006650 Batch 20/100 \n",
            "Training Loss:0.007207 Batch 40/100 \n",
            "Training Loss:0.010738 Batch 60/100 \n",
            "Training Loss:0.006435 Batch 80/100 \n",
            "Epoch 13, Test Accuracy 97.650 %\n",
            "Training Loss:0.004263 Batch 0/100 \n",
            "Training Loss:0.002319 Batch 20/100 \n",
            "Training Loss:0.003145 Batch 40/100 \n",
            "Training Loss:0.002819 Batch 60/100 \n",
            "Training Loss:0.003417 Batch 80/100 \n",
            "Epoch 14, Test Accuracy 97.700 %\n",
            "Training Loss:0.001787 Batch 0/100 \n",
            "Training Loss:0.002631 Batch 20/100 \n",
            "Training Loss:0.004371 Batch 40/100 \n",
            "Training Loss:0.003326 Batch 60/100 \n",
            "Training Loss:0.001761 Batch 80/100 \n",
            "Epoch 15, Test Accuracy 97.800 %\n",
            "Training Loss:0.002441 Batch 0/100 \n",
            "Training Loss:0.002131 Batch 20/100 \n",
            "Training Loss:0.000819 Batch 40/100 \n",
            "Training Loss:0.001470 Batch 60/100 \n",
            "Training Loss:0.002584 Batch 80/100 \n",
            "Epoch 16, Test Accuracy 97.650 %\n",
            "Training Loss:0.002012 Batch 0/100 \n",
            "Training Loss:0.000903 Batch 20/100 \n",
            "Training Loss:0.001807 Batch 40/100 \n",
            "Training Loss:0.001244 Batch 60/100 \n",
            "Training Loss:0.004088 Batch 80/100 \n",
            "Epoch 17, Test Accuracy 97.600 %\n",
            "Training Loss:0.001147 Batch 0/100 \n",
            "Training Loss:0.001933 Batch 20/100 \n",
            "Training Loss:0.001654 Batch 40/100 \n",
            "Training Loss:0.001714 Batch 60/100 \n",
            "Training Loss:0.000593 Batch 80/100 \n",
            "Epoch 18, Test Accuracy 97.800 %\n",
            "Training Loss:0.001134 Batch 0/100 \n",
            "Training Loss:0.001943 Batch 20/100 \n",
            "Training Loss:0.000820 Batch 40/100 \n",
            "Training Loss:0.001178 Batch 60/100 \n",
            "Training Loss:0.001337 Batch 80/100 \n",
            "Epoch 19, Test Accuracy 97.800 %\n"
          ]
        }
      ],
      "source": [
        "# load datasets\n",
        "train_loader, test_loader = get_mnist_loader(batch_size=batch_size)\n",
        "\n",
        "# train the model\n",
        "acc_count = train(model, train_epoch=train_epoch, model_save=model_save, train_loader=train_loader, test_loader=test_loader)"
      ]
    },
    {
      "cell_type": "code",
      "execution_count": null,
      "metadata": {
        "colab": {
          "base_uri": "https://localhost:8080/",
          "height": 480
        },
        "id": "V4gtbMW6jBRC",
        "outputId": "c3c86b7e-6ba6-49b2-ea5b-76893c2b2bce"
      },
      "outputs": [
        {
          "data": {
            "image/png": "[encoded data removed]",
            "text/plain": [
              "<Figure size 640x480 with 1 Axes>"
            ]
          },
          "metadata": {},
          "output_type": "display_data"
        }
      ],
      "source": [
        " # Plot the accuracy curves w.r.t. epochs\n",
        "plt.plot(acc_count, marker='.')\n",
        "plt.ylabel('Accuracy')\n",
        "plt.xlabel('Epochs')\n",
        "plt.title('Test Accuracy of CNN')\n",
        "plt.show()"
      ]
    },
    {
      "cell_type": "code",
      "execution_count": null,
      "metadata": {
        "id": "_vmKfb7X0Ufx"
      },
      "outputs": [],
      "source": []
    }
  ],
  "metadata": {
    "colab": {
      "toc_visible": true,
      "provenance": []
    },
    "kernelspec": {
      "display_name": "Python 3",
      "name": "python3"
    },
    "language_info": {
      "name": "python"
    }
  },
  "nbformat": 4,
  "nbformat_minor": 0
}