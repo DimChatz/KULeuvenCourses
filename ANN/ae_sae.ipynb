{
  "nbformat": 4,
  "nbformat_minor": 0,
  "metadata": {
    "colab": {
      "provenance": [],
      "gpuType": "T4"
    },
    "kernelspec": {
      "name": "python3",
      "display_name": "Python 3"
    },
    "language_info": {
      "name": "python"
    },
    "accelerator": "GPU"
  },
  "cells": [
    {
      "cell_type": "markdown",
      "source": [
        "#Artificial Neural Networks and Deep Learning    \n",
        "##Assignment 3.1 - Autoencoders and Stacked Autoencoders\n",
        "\n",
        "Prof. Dr. Ir. Johan A. K. Suykens     \n",
        "\n",
        "In this file, we will implement two network architectures from scratch: (1) Autoencoders; (2) Stacked Autoencoders.\n",
        "\n",
        "We will train both networks on the MNIST dataset under reconstruction learning task. All training will be conducted on a single T4 GPU.\n"
      ],
      "metadata": {
        "id": "G28ynkon-QY1"
      }
    },
    {
      "cell_type": "code",
      "execution_count": null,
      "metadata": {
        "id": "EZHATEBH-INR",
        "colab": {
          "base_uri": "https://localhost:8080/"
        },
        "outputId": "90255d32-1e7f-4d25-8c83-413cac75de38"
      },
      "outputs": [
        {
          "output_type": "stream",
          "name": "stdout",
          "text": [
            "Mounted at /content/drive\n"
          ]
        }
      ],
      "source": [
        "# Please first load your google drive\n",
        "from google.colab import drive\n",
        "drive.mount('/content/drive')"
      ]
    },
    {
      "cell_type": "code",
      "source": [
        "# Please go to Edit > Notebook settings > Hardware accelerator > choose \"T4 GPU\"\n",
        "# Now check if you have loaded the GPU successfully\n",
        "!nvidia-smi"
      ],
      "metadata": {
        "id": "MnZZO_oOFpJP",
        "colab": {
          "base_uri": "https://localhost:8080/"
        },
        "outputId": "c711ef10-8a3a-4d15-c25e-81a34a9ece8d"
      },
      "execution_count": null,
      "outputs": [
        {
          "output_type": "stream",
          "name": "stdout",
          "text": [
            "/bin/bash: line 1: nvidia-smi: command not found\n"
          ]
        }
      ]
    },
    {
      "cell_type": "markdown",
      "source": [
        "# Autoencoder\n",
        "In this section, we implement an Autoencoder from scratch and trainit on the MNIST dataset. With this autoencoder, we pass input data through an encoder making a compressed representation of the input, and then pass this representation to the following decoder to reconstruct the input data.\n",
        "Note that in this exercise session we will be using  ``PyTorch`` instead of ``Keras`` for building and training our neural networks.\n"
      ],
      "metadata": {
        "id": "504PW8Go_Bna"
      }
    },
    {
      "cell_type": "code",
      "source": [
        "import torch\n",
        "import numpy as np\n",
        "from torchvision import datasets\n",
        "import torchvision.transforms as transforms\n",
        "\n",
        "# Set the seed for reproducibility. Don't forget to comment out this line when averaging over different runs\n",
        "torch.manual_seed(42)\n",
        "\n",
        "# Convert data to torch.FloatTensor\n",
        "transform = transforms.ToTensor()\n",
        "\n",
        "\n",
        "train_data = datasets.MNIST(root='data', train=True,\n",
        "                                   download=True, transform=transform)\n",
        "test_data = datasets.MNIST(root='data', train=False,\n",
        "                                  download=True, transform=transform)\n",
        "\n",
        "# Select only a part of the dataset to speed up training times\n",
        "num_train_samples = 10000\n",
        "num_test_samples = 1000\n",
        "\n",
        "# Randomly select a subset of samples\n",
        "train_indices = torch.randperm(len(train_data))[:num_train_samples]\n",
        "test_indices = torch.randperm(len(test_data))[:num_test_samples]\n",
        "\n",
        "# Create subset samplers to be used in the dataloader\n",
        "train_subset_sampler = torch.utils.data.SubsetRandomSampler(train_indices)\n",
        "test_subset_sampler = torch.utils.data.SubsetRandomSampler(test_indices)\n",
        "\n"
      ],
      "metadata": {
        "id": "eGwR7aL5_FSD",
        "colab": {
          "base_uri": "https://localhost:8080/"
        },
        "outputId": "0008e3c8-9f7c-4868-bee2-960f06336cd1"
      },
      "execution_count": null,
      "outputs": [
        {
          "output_type": "stream",
          "name": "stdout",
          "text": [
            "Downloading http://yann.lecun.com/exdb/mnist/train-images-idx3-ubyte.gz\n",
            "Failed to download (trying next):\n",
            "HTTP Error 403: Forbidden\n",
            "\n",
            "Downloading https://ossci-datasets.s3.amazonaws.com/mnist/train-images-idx3-ubyte.gz\n",
            "Downloading https://ossci-datasets.s3.amazonaws.com/mnist/train-images-idx3-ubyte.gz to data/MNIST/raw/train-images-idx3-ubyte.gz\n"
          ]
        },
        {
          "output_type": "stream",
          "name": "stderr",
          "text": [
            "100%|██████████| 9912422/9912422 [00:00<00:00, 51670017.54it/s]\n"
          ]
        },
        {
          "output_type": "stream",
          "name": "stdout",
          "text": [
            "Extracting data/MNIST/raw/train-images-idx3-ubyte.gz to data/MNIST/raw\n",
            "\n",
            "Downloading http://yann.lecun.com/exdb/mnist/train-labels-idx1-ubyte.gz\n",
            "Failed to download (trying next):\n",
            "HTTP Error 403: Forbidden\n",
            "\n",
            "Downloading https://ossci-datasets.s3.amazonaws.com/mnist/train-labels-idx1-ubyte.gz\n",
            "Downloading https://ossci-datasets.s3.amazonaws.com/mnist/train-labels-idx1-ubyte.gz to data/MNIST/raw/train-labels-idx1-ubyte.gz\n"
          ]
        },
        {
          "output_type": "stream",
          "name": "stderr",
          "text": [
            "100%|██████████| 28881/28881 [00:00<00:00, 1698791.06it/s]\n"
          ]
        },
        {
          "output_type": "stream",
          "name": "stdout",
          "text": [
            "Extracting data/MNIST/raw/train-labels-idx1-ubyte.gz to data/MNIST/raw\n",
            "\n",
            "Downloading http://yann.lecun.com/exdb/mnist/t10k-images-idx3-ubyte.gz\n",
            "Failed to download (trying next):\n",
            "HTTP Error 403: Forbidden\n",
            "\n",
            "Downloading https://ossci-datasets.s3.amazonaws.com/mnist/t10k-images-idx3-ubyte.gz\n",
            "Downloading https://ossci-datasets.s3.amazonaws.com/mnist/t10k-images-idx3-ubyte.gz to data/MNIST/raw/t10k-images-idx3-ubyte.gz\n"
          ]
        },
        {
          "output_type": "stream",
          "name": "stderr",
          "text": [
            "100%|██████████| 1648877/1648877 [00:00<00:00, 12557110.51it/s]\n"
          ]
        },
        {
          "output_type": "stream",
          "name": "stdout",
          "text": [
            "Extracting data/MNIST/raw/t10k-images-idx3-ubyte.gz to data/MNIST/raw\n",
            "\n",
            "Downloading http://yann.lecun.com/exdb/mnist/t10k-labels-idx1-ubyte.gz\n",
            "Failed to download (trying next):\n",
            "HTTP Error 403: Forbidden\n",
            "\n",
            "Downloading https://ossci-datasets.s3.amazonaws.com/mnist/t10k-labels-idx1-ubyte.gz\n",
            "Downloading https://ossci-datasets.s3.amazonaws.com/mnist/t10k-labels-idx1-ubyte.gz to data/MNIST/raw/t10k-labels-idx1-ubyte.gz\n"
          ]
        },
        {
          "output_type": "stream",
          "name": "stderr",
          "text": [
            "100%|██████████| 4542/4542 [00:00<00:00, 7034907.23it/s]"
          ]
        },
        {
          "output_type": "stream",
          "name": "stdout",
          "text": [
            "Extracting data/MNIST/raw/t10k-labels-idx1-ubyte.gz to data/MNIST/raw\n",
            "\n"
          ]
        },
        {
          "output_type": "stream",
          "name": "stderr",
          "text": [
            "\n"
          ]
        }
      ]
    },
    {
      "cell_type": "markdown",
      "source": [
        "## Create training and test dataloaders\n",
        "\n",
        "\n",
        "Dataloaders are used for efficiently loading, batching, and managing datasets in PyTorch.\n",
        "During training dataloaders feed the data into the network batch by batch instead of the whole dataset at once. This allows us to handle larger datasets without running out of memory."
      ],
      "metadata": {
        "id": "5OxiS9KN9oQA"
      }
    },
    {
      "cell_type": "code",
      "source": [
        "# Choose how many samples per batch to load\n",
        "# You can tune the batch size\n",
        "batch_size = 32\n",
        "\n",
        "# Prepare data loaders\n",
        "train_loader = torch.utils.data.DataLoader(train_data,\n",
        "                                           batch_size=batch_size,\n",
        "                                           sampler = train_subset_sampler,\n",
        "                                           num_workers=0)\n",
        "test_loader = torch.utils.data.DataLoader(test_data,\n",
        "                                          batch_size=batch_size,\n",
        "                                          sampler = test_subset_sampler,\n",
        "                                          num_workers=0)\n"
      ],
      "metadata": {
        "id": "Lig-NUzmAuiZ"
      },
      "execution_count": null,
      "outputs": []
    },
    {
      "cell_type": "markdown",
      "source": [
        "## Visualize the data"
      ],
      "metadata": {
        "id": "Wk4UCmCdBjjZ"
      }
    },
    {
      "cell_type": "code",
      "source": [
        "import matplotlib.pyplot as plt\n",
        "%matplotlib inline\n",
        "\n",
        "# Obtain one batch of training images\n",
        "images, labels = next(iter(train_loader)) # iter() creates an iterator over the batches in the dataloader and next() selects the next batch from this iterator.\n",
        "images = images.numpy() #.numpy() turns the torch.tensor into a numpy array\n",
        "\n",
        "# Get one image from the batch\n",
        "img = np.squeeze(images[0])\n",
        "\n",
        "fig = plt.figure(figsize = (5,5))\n",
        "ax = fig.add_subplot(111)\n",
        "ax.imshow(img, cmap='gray')"
      ],
      "metadata": {
        "id": "3BeTdD4yBcl9",
        "colab": {
          "base_uri": "https://localhost:8080/",
          "height": 462
        },
        "outputId": "67d952bb-6c03-4710-c0f5-7c13651059a3"
      },
      "execution_count": null,
      "outputs": [
        {
          "output_type": "execute_result",
          "data": {
            "text/plain": [
              "<matplotlib.image.AxesImage at 0x7eb657a27a00>"
            ]
          },
          "metadata": {},
          "execution_count": 5
        },
        {
          "output_type": "display_data",
          "data": {
            "text/plain": [
              "<Figure size 500x500 with 1 Axes>"
            ],
            "image/png": "[encoded data removed]"
          },
          "metadata": {}
        }
      ]
    },
    {
      "cell_type": "markdown",
      "source": [
        "## Build the Linear Autoencoder\n",
        "We now train a linear autoencoder on MINIST dataset.\n",
        "Images of original size 28$\\times$28 will be flattened into 784-dimensional vectors.\n",
        "Note that images from this dataset are already normalized so that the values are between 0 and 1.\n",
        "Since the images are normalized between 0 and 1, we need to use a sigmoid activation on the output layer to get values that match this input value range.\n",
        "\n",
        "The encoder and decoder in the Autoencoder are built with one linear layer where you can tune the dimension of the hidden representation, i.e., ``encoding_dim``, to obtain models with different size."
      ],
      "metadata": {
        "id": "LzWxOoXYCUiz"
      }
    },
    {
      "cell_type": "code",
      "source": [
        "import torch.nn as nn\n",
        "import torch.nn.functional as F\n",
        "\n",
        "# Define the NN architecture\n",
        "class Autoencoder(nn.Module):\n",
        "    def __init__(self, encoding_dim):\n",
        "        super(Autoencoder, self).__init__()\n",
        "        # Encoder\n",
        "        self.encoder = nn.Linear(784, encoding_dim)\n",
        "        # Decoder\n",
        "        self.decoder = nn.Linear(encoding_dim, 784)\n",
        "\n",
        "    def forward(self, x):\n",
        "        # Define feedforward behavior\n",
        "        # and scale the *output* layer with a sigmoid activation function\n",
        "\n",
        "        # Pass x into encoder\n",
        "        out = F.relu(self.encoder(x))\n",
        "        # Pass out into decoder\n",
        "        out = torch.sigmoid(self.decoder(out))\n",
        "\n",
        "        return out"
      ],
      "metadata": {
        "id": "05JucJsoB6E-"
      },
      "execution_count": null,
      "outputs": []
    },
    {
      "cell_type": "code",
      "source": [
        "# Initialize the NN\n",
        "# You can change the encoding_dim to obtain models with different size\n",
        "encoding_dim = 128\n",
        "model = Autoencoder(encoding_dim)\n",
        "\n",
        "# Send model to GPU if available\n",
        "if torch.cuda.is_available():\n",
        "  model.cuda()\n",
        "print(model)"
      ],
      "metadata": {
        "id": "FtBYi-kACg1A",
        "colab": {
          "base_uri": "https://localhost:8080/"
        },
        "outputId": "255d9029-3184-4ed5-f215-1549467d293e"
      },
      "execution_count": null,
      "outputs": [
        {
          "output_type": "stream",
          "name": "stdout",
          "text": [
            "Autoencoder(\n",
            "  (encoder): Linear(in_features=784, out_features=128, bias=True)\n",
            "  (decoder): Linear(in_features=128, out_features=784, bias=True)\n",
            ")\n"
          ]
        }
      ]
    },
    {
      "cell_type": "markdown",
      "source": [
        "## Training on MNIST\n",
        "Training a neural network in PyTorch involves manually defining the training loop.\n",
        "Here data processing, forward pass, loss computation, and optimization are explicitly specified.\n",
        "\n",
        "Since we work on reconstruction learning tasks, we do not need the labels here but only the images.\n",
        "The loss function should choose the MSE loss for reconstruction."
      ],
      "metadata": {
        "id": "D6oAhmIwEDgo"
      }
    },
    {
      "cell_type": "code",
      "source": [
        "# Specify the loss function\n",
        "criterion = nn.MSELoss()\n",
        "\n",
        "# We use Adam as the optimizer with a fixed learning rate of 1e-3\n",
        "optimizer = torch.optim.Adam(model.parameters(), lr=0.001)\n",
        "\n",
        "# Choose the number of Epochs to train the network\n",
        "n_epochs = 20\n",
        "# Set model to training mode\n",
        "model.train()\n",
        "\n",
        "for epoch in range(n_epochs):\n",
        "    # Monitor training loss\n",
        "    train_loss = 0.0\n",
        "\n",
        "    # Train the model #\n",
        "    # Feed the data into the network batch by batch using the dataloader\n",
        "    for batch_data in train_loader:\n",
        "        # _ stands in for labels\n",
        "        # we do not need labels when conducting reconstruction\n",
        "        images, _ = batch_data\n",
        "        # Flatten images and send images to GPU\n",
        "        images = images.view(images.size(0), -1)\n",
        "        # Send images to GPU if possible\n",
        "        if torch.cuda.is_available():\n",
        "          images = images.cuda()\n",
        "        # Clear the gradients of all optimized variables\n",
        "        optimizer.zero_grad()\n",
        "        # Forward pass: compute predicted outputs by passing inputs to the model\n",
        "        outputs = model(images)\n",
        "        # Calculate the loss between output and input images\n",
        "        loss = criterion(outputs, images)\n",
        "        # Backward pass: compute gradient of the loss with respect to model parameters\n",
        "        loss.backward()\n",
        "        # Perform a single optimization step (parameter update)\n",
        "        optimizer.step()\n",
        "        # Update running training loss\n",
        "        train_loss += loss.item()*images.size(0)\n",
        "\n",
        "    # Print avg training statistics\n",
        "    train_loss = train_loss/len(train_loader)\n",
        "    print('Epoch: {} \\tTraining Loss: {:.6f}'.format(\n",
        "        epoch,\n",
        "        train_loss\n",
        "        ))\n",
        "\n",
        "\n"
      ],
      "metadata": {
        "id": "ssUxyRJSEUzV",
        "colab": {
          "base_uri": "https://localhost:8080/"
        },
        "outputId": "7dfdc603-a888-4a98-86ff-7b180c14d911"
      },
      "execution_count": null,
      "outputs": [
        {
          "output_type": "stream",
          "name": "stdout",
          "text": [
            "Epoch: 0 \tTraining Loss: 1.640032\n",
            "Epoch: 1 \tTraining Loss: 0.724170\n",
            "Epoch: 2 \tTraining Loss: 0.480361\n",
            "Epoch: 3 \tTraining Loss: 0.344243\n",
            "Epoch: 4 \tTraining Loss: 0.259624\n",
            "Epoch: 5 \tTraining Loss: 0.208377\n",
            "Epoch: 6 \tTraining Loss: 0.175747\n",
            "Epoch: 7 \tTraining Loss: 0.152977\n",
            "Epoch: 8 \tTraining Loss: 0.136946\n",
            "Epoch: 9 \tTraining Loss: 0.124789\n",
            "Epoch: 10 \tTraining Loss: 0.115318\n",
            "Epoch: 11 \tTraining Loss: 0.107993\n",
            "Epoch: 12 \tTraining Loss: 0.102061\n",
            "Epoch: 13 \tTraining Loss: 0.097022\n",
            "Epoch: 14 \tTraining Loss: 0.092732\n",
            "Epoch: 15 \tTraining Loss: 0.088745\n",
            "Epoch: 16 \tTraining Loss: 0.086192\n",
            "Epoch: 17 \tTraining Loss: 0.082916\n",
            "Epoch: 18 \tTraining Loss: 0.080520\n",
            "Epoch: 19 \tTraining Loss: 0.078175\n"
          ]
        }
      ]
    },
    {
      "cell_type": "markdown",
      "source": [
        "## Evaluation on test set\n",
        "We now evaluate the reconstruction results on the unseen test set.\n",
        "We plot the original test images and their corresponding reconstruction ones."
      ],
      "metadata": {
        "id": "JeN_f28fJ1lq"
      }
    },
    {
      "cell_type": "code",
      "source": [
        "# Set model to evaluation mode\n",
        "model.eval()\n",
        "\n",
        "# Monitor test loss\n",
        "test_loss = 0.0\n",
        "\n",
        "# Disable gradient computation\n",
        "with torch.no_grad():\n",
        "    # Iterate over the test data\n",
        "    for batch_data in test_loader:\n",
        "        # Extract images from the batch\n",
        "        images, _ = batch_data\n",
        "        # Flatten images and send them to GPU\n",
        "        images = images.view(images.size(0), -1)\n",
        "        # Send to GPU\n",
        "        if torch.cuda.is_available():\n",
        "          images = images.cuda()\n",
        "        # Forward pass: compute predicted outputs by passing inputs to the model\n",
        "        outputs = model(images)\n",
        "        # Calculate the loss between output and input images\n",
        "        loss = criterion(outputs, images)\n",
        "        # Update test loss\n",
        "        test_loss += loss.item()*images.size(0)\n",
        "\n",
        "# Compute average test loss\n",
        "test_loss = test_loss/len(test_loader.dataset)\n",
        "\n",
        "# Print test loss\n",
        "print('Test Loss: {:.6f}'.format(test_loss))"
      ],
      "metadata": {
        "id": "daly1tTfbbXk",
        "colab": {
          "base_uri": "https://localhost:8080/"
        },
        "outputId": "0755b46a-90a9-46bc-e82c-8867d842a948"
      },
      "execution_count": null,
      "outputs": [
        {
          "output_type": "stream",
          "name": "stdout",
          "text": [
            "Test Loss: 0.000260\n"
          ]
        }
      ]
    },
    {
      "cell_type": "code",
      "source": [
        "# Obtain one batch of test images\n",
        "test_images, test_labels = next(iter(test_loader))\n",
        "\n",
        "test_images_flatten = test_images.view(test_images.size(0), -1)\n",
        "# Set model to evaluation mode\n",
        "model.eval()\n",
        "# Send model back to CPU\n",
        "model.cpu()\n",
        "# Get sample outputs\n",
        "output = model(test_images_flatten)\n",
        "# Prep images for display\n",
        "test_images = test_images.numpy()\n",
        "\n",
        "# Output is resized into a batch of images\n",
        "output = output.view(batch_size, 1, 28, 28)\n",
        "# Use detach when it's an output that requires_grad\n",
        "output = output.detach().numpy()\n",
        "\n",
        "# Plot the first ten input images and then reconstructed images\n",
        "fig, axes = plt.subplots(nrows=2, ncols=10, sharex=True, sharey=True, figsize=(25,4))\n",
        "\n",
        "# Input images on top row, reconstructions on bottom\n",
        "for test_images, row in zip([test_images, output], axes):\n",
        "    for img, ax in zip(test_images, row):\n",
        "        ax.imshow(np.squeeze(img), cmap='gray')\n",
        "        ax.get_xaxis().set_visible(False)\n",
        "        ax.get_yaxis().set_visible(False)"
      ],
      "metadata": {
        "id": "gemBn0ihG2Yo",
        "colab": {
          "base_uri": "https://localhost:8080/",
          "height": 235
        },
        "outputId": "599f915a-f413-4644-e5f0-ed658da5a469"
      },
      "execution_count": null,
      "outputs": [
        {
          "output_type": "display_data",
          "data": {
            "text/plain": [
              "<Figure size 2500x400 with 20 Axes>"
            ],
            "image/png": "[encoded data removed]"
          },
          "metadata": {}
        }
      ]
    },
    {
      "cell_type": "markdown",
      "source": [
        "# Stacked Autoencoder\n",
        "In this section, we implement the Stacked Autoencoder from scratch and train it on the MNIST dataset.\n",
        "The training process is with two steps: (1) each layer is trained separately; (2) the network is trained as a whole.\n",
        "\n",
        "We first load the dataset as follows:"
      ],
      "metadata": {
        "id": "nVYXhsPrLBrV"
      }
    },
    {
      "cell_type": "code",
      "source": [
        "import torch\n",
        "from torch import nn, optim, functional, utils\n",
        "\n",
        "from torch.nn import BCELoss, init\n",
        "from torch.utils.data.dataloader import DataLoader\n",
        "import torchvision\n",
        "from torchvision import datasets, utils\n",
        "import torchvision.transforms as transforms\n",
        "from torchvision.datasets import MNIST\n",
        "\n",
        "import time, os\n",
        "\n",
        "# We automate the dataloading process for future use\n",
        "def get_mnist_loader(batch_size=32, num_train_samples = 6000, num_test_samples = 1000):\n",
        "    \"\"\"\n",
        "\n",
        "    :return: train_loader, test_loader\n",
        "    \"\"\"\n",
        "\n",
        "    transform = transforms.Compose([\n",
        "    transforms.ToTensor(),  # Convert image to PyTorch tensor\n",
        "    transforms.Normalize((0.0,), (1.0,))  # Normalize the tensor with mean 0 and standard deviation 1\n",
        "    ])\n",
        "    train_dataset = MNIST(root='../data',\n",
        "                          train=True,\n",
        "                          transform=transform,\n",
        "                          download=True)\n",
        "    test_dataset = MNIST(root='../data',\n",
        "                         train=False,\n",
        "                         transform=transform,\n",
        "                         download=True)\n",
        "\n",
        "    # Randomly select a subset of samples\n",
        "    train_indices = torch.randperm(len(train_dataset))[:num_train_samples]\n",
        "    test_indices = torch.randperm(len(test_dataset))[:num_test_samples]\n",
        "\n",
        "    # Create subset samplers to be used in the dataloader\n",
        "    train_subset_sampler = torch.utils.data.SubsetRandomSampler(train_indices)\n",
        "    test_subset_sampler = torch.utils.data.SubsetRandomSampler(test_indices)\n",
        "\n",
        "    train_loader = torch.utils.data.DataLoader(dataset=train_dataset,\n",
        "                                               batch_size=batch_size,\n",
        "                                               sampler = train_subset_sampler)\n",
        "    test_loader = torch.utils.data.DataLoader(dataset=test_dataset,\n",
        "                                              batch_size=batch_size,\n",
        "                                              sampler = test_subset_sampler)\n",
        "    return train_loader, test_loader"
      ],
      "metadata": {
        "id": "8163o-y3SLfw"
      },
      "execution_count": null,
      "outputs": []
    },
    {
      "cell_type": "markdown",
      "source": [
        "## Build the Stacked Autoencoder\n",
        "Before building the Stacked Autoencoder, we need to build the Autoencoder layer first."
      ],
      "metadata": {
        "id": "8GimciNoQI73"
      }
    },
    {
      "cell_type": "code",
      "source": [
        "class AutoEncoderLayer(nn.Module):\n",
        "    \"\"\"\n",
        "    fully-connected linear layers for stacked autoencoders.\n",
        "    This module can automatically be trained when training each layer is enabled\n",
        "    Yes, this is much like the simplest auto-encoder\n",
        "    \"\"\"\n",
        "    def __init__(self, input_dim=None, hidden_dim=None, SelfTraining=False):\n",
        "        super(AutoEncoderLayer, self).__init__()\n",
        "        # If input_dim is None or hidden_dim is None:\n",
        "        # raise ValueError\n",
        "        self.in_features = input_dim\n",
        "        self.out_features = hidden_dim\n",
        "        # Whether to conduct layer-by-layer pre-training, or train the entire network\n",
        "        self.is_training_self = SelfTraining\n",
        "        self.encoder = nn.Sequential(\n",
        "            nn.Linear(self.in_features, self.out_features, bias=True),\n",
        "            nn.Sigmoid()  # use Sigmoid activation function\n",
        "        )\n",
        "        self.decoder = nn.Sequential(\n",
        "            nn.Linear(self.out_features, self.in_features, bias=True),\n",
        "            nn.Sigmoid()\n",
        "        )\n",
        "        #self._initialize_weights()\n",
        "\n",
        "    def forward(self, x):\n",
        "        out = self.encoder(x)\n",
        "        if self.is_training_self:\n",
        "            return self.decoder(out) # If the layer is not in training mode, it will just encode the data and pass it through\n",
        "        else:\n",
        "            return out\n",
        "\n",
        "    def lock_grad(self):\n",
        "        for param in self.parameters():\n",
        "            param.requires_grad = False\n",
        "\n",
        "    def acquire_grad(self):\n",
        "        for param in self.parameters():\n",
        "            param.requires_grad = True\n",
        "\n",
        "    @property\n",
        "    def input_dim(self):\n",
        "        return self.in_features\n",
        "\n",
        "    @property\n",
        "    def output_dim(self):\n",
        "        return self.out_features\n",
        "\n",
        "    @property\n",
        "    def is_training_layer(self):\n",
        "        return self.is_training_self\n",
        "\n",
        "    @is_training_layer.setter\n",
        "    def is_training_layer(self, other: bool):\n",
        "        self.is_training_self = other"
      ],
      "metadata": {
        "id": "TNjUD_jNLDN3"
      },
      "execution_count": null,
      "outputs": []
    },
    {
      "cell_type": "markdown",
      "source": [
        "## Build the stacked autoencoder\n",
        "\n",
        "Here we stack the autoencoder layers together and add a classification layer at the end"
      ],
      "metadata": {
        "id": "CxT2upS1Aee6"
      }
    },
    {
      "cell_type": "code",
      "source": [
        "class StackedAutoEncoderClassifier(nn.Module):\n",
        "    \"\"\"Stack the trained autoencoder layers and add a classification layer at the end\"\"\"\n",
        "\n",
        "    def __init__(self, autoencoder_list=None, num_classes=10):\n",
        "        super(StackedAutoEncoderClassifier, self).__init__()\n",
        "        # Use only the encoder parts of the autoencoders\n",
        "        self.encoder_layers = nn.ModuleList([autoencoder.encoder for autoencoder in autoencoder_list])\n",
        "        self.num_classes = num_classes\n",
        "\n",
        "        # Classification layer\n",
        "        self.classification_layer = nn.Linear(autoencoder_list[-1].out_features, num_classes)\n",
        "\n",
        "    def forward(self, x):\n",
        "        encoded_representation = x\n",
        "        for layer in self.encoder_layers:\n",
        "            encoded_representation = layer(encoded_representation)\n",
        "\n",
        "        # Classification layer\n",
        "        output = self.classification_layer(encoded_representation)\n",
        "        return output\n"
      ],
      "metadata": {
        "id": "dw1r8BdBpO5f"
      },
      "execution_count": null,
      "outputs": []
    },
    {
      "cell_type": "markdown",
      "source": [
        "## The training function of each layer\n",
        "We need to freeze the parameters in the previous layers when training the current layer."
      ],
      "metadata": {
        "id": "1UQL0TzMRxc3"
      }
    },
    {
      "cell_type": "code",
      "source": [
        "def train_layer(layers_list=None, layer=None, epochs=None, validate=True, batch_size = 128):\n",
        "    \"\"\"\n",
        "    Greedy layer-wise training: when training the i-th layer, freeze the i-1 layer\n",
        "    :param layers_list:\n",
        "    :param layer:\n",
        "    :param epoch:\n",
        "    :return:\n",
        "    \"\"\"\n",
        "    if torch.cuda.is_available():\n",
        "        for model in layers_list:\n",
        "            model.cuda()\n",
        "\n",
        "    train_loader, test_loader = get_mnist_loader(batch_size=batch_size)\n",
        "    optimizer = optim.SGD(layers_list[layer].parameters(), lr=0.1)\n",
        "    criterion = torch.nn.MSELoss()\n",
        "\n",
        "    # Train\n",
        "    for epoch_index in range(epochs):\n",
        "        sum_loss = 0.\n",
        "\n",
        "        # Freeze the parameters of all layers before the current layer\n",
        "        # Layer 0 has no previous layer\n",
        "        if layer != 0:\n",
        "            for index in range(layer):\n",
        "                # In addition to freezing parameters\n",
        "                # the output return method of the frozen layer must also be set.\n",
        "                layers_list[index].lock_grad()\n",
        "                layers_list[index].is_training_layer = False\n",
        "\n",
        "        for batch_index, (train_data, _) in enumerate(train_loader):\n",
        "            # Generate input data\n",
        "            if torch.cuda.is_available():\n",
        "                train_data = train_data.cuda()  # Put data onto GPU\n",
        "            out = train_data.view(train_data.size(0), -1)\n",
        "\n",
        "            # Perform forward calculation on the frozen layers before (layer-1)-th layer\n",
        "            if layer != 0:\n",
        "                for l in range(layer):\n",
        "                    out = layers_list[l](out)\n",
        "\n",
        "            # Train the layer-th layer\n",
        "            pred = layers_list[layer](out)\n",
        "\n",
        "            optimizer.zero_grad()\n",
        "            loss = criterion(pred, out)\n",
        "            sum_loss += loss\n",
        "            loss.backward()\n",
        "            optimizer.step()\n",
        "            #if (batch_index + 1) % 20 == 0:\n",
        "        #print(\"Train Layer: {}, Epoch: {}/{}, Iter: {}/{}, Loss: {:.4f}\".format(\n",
        "            #layer, (epoch_index + 1), epochs, (batch_index + 1), len(train_loader), loss))\n",
        "\n",
        "        if validate:\n",
        "            pass"
      ],
      "metadata": {
        "id": "pvZYBFsGRsmg"
      },
      "execution_count": null,
      "outputs": []
    },
    {
      "cell_type": "markdown",
      "source": [
        "## The training function of the whole network\n",
        "Now we unfreeze all the parameters in the network that are previously frozen for the layer training."
      ],
      "metadata": {
        "id": "fzOYc3BWx1WY"
      }
    },
    {
      "cell_type": "code",
      "source": [
        "def train_classifier(model=None, epochs=20, fine_tuning = False, batch_size = 128):\n",
        "\n",
        "    #print(\">> start training whole model\")\n",
        "    if torch.cuda.is_available():\n",
        "        model.cuda()\n",
        "\n",
        "    # unfreeze the parameters frozen in pre-training if needed\n",
        "    if fine_tuning:\n",
        "      for param in model.parameters():\n",
        "          param.requires_grad = True\n",
        "      training_phase = 'Fine-Tuning'\n",
        "    else:\n",
        "      training_phase = 'Classifier'\n",
        "\n",
        "    train_loader, test_loader = get_mnist_loader(batch_size=batch_size)\n",
        "    optimizer = optim.SGD(model.parameters(), lr=1)\n",
        "    criterion = nn.CrossEntropyLoss()\n",
        "\n",
        "    # Set the model to training mode\n",
        "    model.train()\n",
        "\n",
        "    # train\n",
        "    for epoch_index in range(epochs):\n",
        "        sum_loss = 0.\n",
        "        for batch_index, (train_data, train_labels) in enumerate(train_loader):\n",
        "            if torch.cuda.is_available():\n",
        "                train_data, train_labels = train_data.cuda(), train_labels.cuda()\n",
        "            x = train_data.view(train_data.size(0), -1)\n",
        "\n",
        "            predicted_labels = model(x)\n",
        "\n",
        "            optimizer.zero_grad()\n",
        "            loss = criterion(predicted_labels, train_labels)\n",
        "            sum_loss += loss\n",
        "            loss.backward()\n",
        "            optimizer.step()\n",
        "\n",
        "        #print(\"Train {}, Epoch: {}/{}, Iter: {}/{}, Loss: {:.4f}\".format(training_phase, (epoch_index + 1), epochs, (batch_index + 1), len(train_loader), loss))\n",
        "\n",
        "    #print(\"<< end training whole model\")\n",
        "    #print(\"Calculating accuracy on the whole test set\")\n",
        "\n",
        "    # Set model to evaluation mode\n",
        "    model.eval()\n",
        "\n",
        "    # Calculate accuracy on the test set\n",
        "    total_correct = 0\n",
        "    total_samples = 0\n",
        "    with torch.no_grad():\n",
        "        for batch_data in test_loader:\n",
        "            images, labels = batch_data\n",
        "            images = images.view(images.size(0), -1)\n",
        "            if torch.cuda.is_available():\n",
        "              images, labels = images.cuda(), labels.cuda()\n",
        "            outputs = model(images)\n",
        "            # Get the highest value for each point to get the label\n",
        "            _, predicted_labels = torch.max(outputs.data, 1)\n",
        "            # Count number of correct predictions in the batch\n",
        "            total_correct += (predicted_labels == labels).sum().item()\n",
        "            total_samples += labels.size(0)\n",
        "\n",
        "\n",
        "    # Compute average test loss\n",
        "    accuracy = total_correct / total_samples\n",
        "    #print('Accuracy on the test set: {:.6f}'.format(accuracy))\n",
        "    return model, accuracy\n"
      ],
      "metadata": {
        "id": "LaK2zTZd2Z5Z"
      },
      "execution_count": null,
      "outputs": []
    },
    {
      "cell_type": "markdown",
      "source": [
        "## Let's start training!\n",
        "The default network is trained with layer epochs 10, classifier epochs 10, fine-tuning epochs 20, batch size of 128. You can try to change the hyper-parameters to obtain better reconstruction performance."
      ],
      "metadata": {
        "id": "bkccSfRJx4ah"
      }
    },
    {
      "cell_type": "code",
      "source": [
        "# You can change the hyper-parameters here\n",
        "# Be sure to try out different combinations of epochs for the pretraining and fine-tuning\n",
        "num_layer_wise_epochs = 10\n",
        "num_classifier_epochs = 10\n",
        "num_finetuning_epochs = 20\n",
        "batch_size = 128"
      ],
      "metadata": {
        "id": "zm44Cap4T7oS"
      },
      "execution_count": null,
      "outputs": []
    },
    {
      "cell_type": "code",
      "source": [
        "input_dim = 784\n",
        "hiddenList = [64, 128, 256, 512]\n",
        "for hidden_dim1 in hiddenList:\n",
        "    hidden_dim2 = int(hidden_dim1/4)\n",
        "    print(hidden_dim2)\n",
        "    accListBefore = []\n",
        "    accListAfter = []\n",
        "    for i in range(4):\n",
        "        # Define the autoencoder layers\n",
        "        # Try different values for the dimensions of the hidden layers and the number of layers\n",
        "        encoder_1 = AutoEncoderLayer(input_dim = input_dim, hidden_dim = hidden_dim1, SelfTraining=True)\n",
        "        encoder_2 = AutoEncoderLayer(input_dim = hidden_dim1, hidden_dim = hidden_dim2, SelfTraining=True)\n",
        "\n",
        "        encoders_list = [encoder_1, encoder_2]\n",
        "        num_layers = len(encoders_list)\n",
        "\n",
        "        # Pre-train each layer\n",
        "        for level in range(num_layers):\n",
        "            train_layer(layers_list=encoders_list, layer=level, epochs=num_layer_wise_epochs, validate=True, batch_size = batch_size)\n",
        "\n",
        "        # Build the stacked autoencoder\n",
        "        SAE_model = StackedAutoEncoderClassifier(autoencoder_list=encoders_list, num_classes = 10)\n",
        "        # Print the model\n",
        "        #print(SAE_model)\n",
        "\n",
        "        # First train the classification layer\n",
        "        _, acc_before = train_classifier(model=SAE_model, epochs=num_classifier_epochs, fine_tuning = False, batch_size = batch_size)\n",
        "        accListBefore.append(acc_before)\n",
        "        # Train the whole model and perform fine-tuning\n",
        "        _, acc_after = train_classifier(model=SAE_model, epochs=num_finetuning_epochs, fine_tuning = True, batch_size = batch_size)\n",
        "        accListAfter.append(acc_after)\n",
        "        # Save the model (refer: https://pytorch.org/docs/master/notes/serialization.html)\n",
        "        torch.save(SAE_model, f'./sae_model_{hidden_dim1}.pt')\n",
        "    print(f\"For hidden dim {hidden_dim1} before: mean is {np.mean(accListBefore)}, std is {np.std(accListBefore)}\")\n",
        "    print(f\"For hidden dim {hidden_dim1} after: mean is {np.mean(accListAfter)}, std is {np.std(accListAfter)}\")"
      ],
      "metadata": {
        "id": "M6N2XhTqT_-X",
        "colab": {
          "base_uri": "https://localhost:8080/"
        },
        "outputId": "d771285c-28d8-4a3e-8481-7a673e6e126c"
      },
      "execution_count": null,
      "outputs": [
        {
          "output_type": "stream",
          "name": "stdout",
          "text": [
            "16\n",
            "For hidden dim 64 before: mean is 0.196, std is 0.05161879502661798\n",
            "For hidden dim 64 after: mean is 0.921, std is 0.007713624310270764\n",
            "32\n",
            "For hidden dim 128 before: mean is 0.14725, std is 0.04847357527560764\n",
            "For hidden dim 128 after: mean is 0.9265, std is 0.011280514172678453\n",
            "64\n",
            "For hidden dim 256 before: mean is 0.20325, std is 0.1184786373149185\n",
            "For hidden dim 256 after: mean is 0.9135000000000001, std is 0.011926860441876574\n",
            "128\n",
            "For hidden dim 512 before: mean is 0.208, std is 0.07790057766152957\n",
            "For hidden dim 512 after: mean is 0.9097500000000001, std is 0.00892678553567857\n"
          ]
        }
      ]
    },
    {
      "cell_type": "code",
      "source": [],
      "metadata": {
        "id": "F6n6JoQCO2Ut"
      },
      "execution_count": null,
      "outputs": []
    }
  ]
}